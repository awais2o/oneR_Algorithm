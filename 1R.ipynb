{
 "cells": [
  {
   "cell_type": "code",
   "execution_count": 1,
   "id": "a52218d4",
   "metadata": {},
   "outputs": [],
   "source": [
    "import pandas as pd\n",
    "\n"
   ]
  },
  {
   "cell_type": "code",
   "execution_count": 2,
   "id": "58b52041",
   "metadata": {},
   "outputs": [],
   "source": [
    "df=pd.read_csv(\"data.csv\" ,  encoding='latin-1')\n",
    "df=df.dropna()\n"
   ]
  },
  {
   "cell_type": "code",
   "execution_count": 3,
   "id": "15bf4e40",
   "metadata": {
    "collapsed": true
   },
   "outputs": [
    {
     "data": {
      "text/html": [
       "<div>\n",
       "<style scoped>\n",
       "    .dataframe tbody tr th:only-of-type {\n",
       "        vertical-align: middle;\n",
       "    }\n",
       "\n",
       "    .dataframe tbody tr th {\n",
       "        vertical-align: top;\n",
       "    }\n",
       "\n",
       "    .dataframe thead th {\n",
       "        text-align: right;\n",
       "    }\n",
       "</style>\n",
       "<table border=\"1\" class=\"dataframe\">\n",
       "  <thead>\n",
       "    <tr style=\"text-align: right;\">\n",
       "      <th></th>\n",
       "      <th>Day</th>\n",
       "      <th>Outlook</th>\n",
       "      <th>Temperature</th>\n",
       "      <th>Humidity</th>\n",
       "      <th>Wind</th>\n",
       "      <th>PlayTennis</th>\n",
       "    </tr>\n",
       "  </thead>\n",
       "  <tbody>\n",
       "    <tr>\n",
       "      <th>0</th>\n",
       "      <td>D1</td>\n",
       "      <td>Sunny</td>\n",
       "      <td>Hot</td>\n",
       "      <td>High</td>\n",
       "      <td>Weak</td>\n",
       "      <td>No</td>\n",
       "    </tr>\n",
       "    <tr>\n",
       "      <th>1</th>\n",
       "      <td>D2</td>\n",
       "      <td>Overcast</td>\n",
       "      <td>Cool</td>\n",
       "      <td>High</td>\n",
       "      <td>Weak</td>\n",
       "      <td>Yes</td>\n",
       "    </tr>\n",
       "    <tr>\n",
       "      <th>2</th>\n",
       "      <td>D4</td>\n",
       "      <td>Rain</td>\n",
       "      <td>Hot</td>\n",
       "      <td>Normal</td>\n",
       "      <td>Strong</td>\n",
       "      <td>No</td>\n",
       "    </tr>\n",
       "    <tr>\n",
       "      <th>3</th>\n",
       "      <td>D5</td>\n",
       "      <td>Rain</td>\n",
       "      <td>Cool</td>\n",
       "      <td>Normal</td>\n",
       "      <td>Strong</td>\n",
       "      <td>Yes</td>\n",
       "    </tr>\n",
       "    <tr>\n",
       "      <th>4</th>\n",
       "      <td>D6</td>\n",
       "      <td>Rain</td>\n",
       "      <td>Hot</td>\n",
       "      <td>High</td>\n",
       "      <td>Strong</td>\n",
       "      <td>No</td>\n",
       "    </tr>\n",
       "    <tr>\n",
       "      <th>5</th>\n",
       "      <td>D7</td>\n",
       "      <td>Overcast</td>\n",
       "      <td>Mild</td>\n",
       "      <td>High</td>\n",
       "      <td>Weak</td>\n",
       "      <td>Yes</td>\n",
       "    </tr>\n",
       "    <tr>\n",
       "      <th>6</th>\n",
       "      <td>D8</td>\n",
       "      <td>Sunny</td>\n",
       "      <td>Hot</td>\n",
       "      <td>Normal</td>\n",
       "      <td>Strong</td>\n",
       "      <td>No</td>\n",
       "    </tr>\n",
       "    <tr>\n",
       "      <th>7</th>\n",
       "      <td>D9</td>\n",
       "      <td>Sunny</td>\n",
       "      <td>Hot</td>\n",
       "      <td>Normal</td>\n",
       "      <td>Strong</td>\n",
       "      <td>Yes</td>\n",
       "    </tr>\n",
       "    <tr>\n",
       "      <th>8</th>\n",
       "      <td>D11</td>\n",
       "      <td>Overcast</td>\n",
       "      <td>Mild</td>\n",
       "      <td>Normal</td>\n",
       "      <td>Weak</td>\n",
       "      <td>No</td>\n",
       "    </tr>\n",
       "    <tr>\n",
       "      <th>9</th>\n",
       "      <td>D12</td>\n",
       "      <td>Sunny</td>\n",
       "      <td>Hot</td>\n",
       "      <td>Normal</td>\n",
       "      <td>Strong</td>\n",
       "      <td>Yes</td>\n",
       "    </tr>\n",
       "    <tr>\n",
       "      <th>10</th>\n",
       "      <td>D13</td>\n",
       "      <td>Rain</td>\n",
       "      <td>Hot</td>\n",
       "      <td>Normal</td>\n",
       "      <td>Strong</td>\n",
       "      <td>No</td>\n",
       "    </tr>\n",
       "    <tr>\n",
       "      <th>11</th>\n",
       "      <td>D14</td>\n",
       "      <td>Sunny</td>\n",
       "      <td>Cool</td>\n",
       "      <td>Normal</td>\n",
       "      <td>Weak</td>\n",
       "      <td>No</td>\n",
       "    </tr>\n",
       "    <tr>\n",
       "      <th>12</th>\n",
       "      <td>D15</td>\n",
       "      <td>Rain</td>\n",
       "      <td>Hot</td>\n",
       "      <td>High</td>\n",
       "      <td>Strong</td>\n",
       "      <td>Yes</td>\n",
       "    </tr>\n",
       "    <tr>\n",
       "      <th>13</th>\n",
       "      <td>D17</td>\n",
       "      <td>Rain</td>\n",
       "      <td>Mild</td>\n",
       "      <td>Normal</td>\n",
       "      <td>Strong</td>\n",
       "      <td>Yes</td>\n",
       "    </tr>\n",
       "    <tr>\n",
       "      <th>14</th>\n",
       "      <td>D18</td>\n",
       "      <td>Rain</td>\n",
       "      <td>Hot</td>\n",
       "      <td>High</td>\n",
       "      <td>Strong</td>\n",
       "      <td>No</td>\n",
       "    </tr>\n",
       "    <tr>\n",
       "      <th>15</th>\n",
       "      <td>D19</td>\n",
       "      <td>Sunny</td>\n",
       "      <td>Mild</td>\n",
       "      <td>High</td>\n",
       "      <td>Strong</td>\n",
       "      <td>No</td>\n",
       "    </tr>\n",
       "    <tr>\n",
       "      <th>16</th>\n",
       "      <td>D20</td>\n",
       "      <td>Sunny</td>\n",
       "      <td>Mild</td>\n",
       "      <td>High</td>\n",
       "      <td>Weak</td>\n",
       "      <td>Yes</td>\n",
       "    </tr>\n",
       "    <tr>\n",
       "      <th>17</th>\n",
       "      <td>D21</td>\n",
       "      <td>Sunny</td>\n",
       "      <td>Cool</td>\n",
       "      <td>High</td>\n",
       "      <td>Weak</td>\n",
       "      <td>No</td>\n",
       "    </tr>\n",
       "    <tr>\n",
       "      <th>18</th>\n",
       "      <td>D22</td>\n",
       "      <td>Overcast</td>\n",
       "      <td>Mild</td>\n",
       "      <td>High</td>\n",
       "      <td>Weak</td>\n",
       "      <td>No</td>\n",
       "    </tr>\n",
       "    <tr>\n",
       "      <th>19</th>\n",
       "      <td>D23</td>\n",
       "      <td>Rain</td>\n",
       "      <td>Mild</td>\n",
       "      <td>Normal</td>\n",
       "      <td>Weak</td>\n",
       "      <td>Yes</td>\n",
       "    </tr>\n",
       "    <tr>\n",
       "      <th>20</th>\n",
       "      <td>D24</td>\n",
       "      <td>Rain</td>\n",
       "      <td>Hot</td>\n",
       "      <td>High</td>\n",
       "      <td>Strong</td>\n",
       "      <td>Yes</td>\n",
       "    </tr>\n",
       "  </tbody>\n",
       "</table>\n",
       "</div>"
      ],
      "text/plain": [
       "    Day   Outlook Temperature Humidity    Wind PlayTennis\n",
       "0    D1     Sunny         Hot     High    Weak         No\n",
       "1    D2  Overcast        Cool     High    Weak        Yes\n",
       "2    D4      Rain         Hot   Normal  Strong         No\n",
       "3    D5      Rain        Cool   Normal  Strong        Yes\n",
       "4    D6      Rain         Hot     High  Strong         No\n",
       "5    D7  Overcast        Mild     High    Weak        Yes\n",
       "6    D8     Sunny         Hot   Normal  Strong         No\n",
       "7    D9     Sunny         Hot   Normal  Strong        Yes\n",
       "8   D11  Overcast        Mild   Normal    Weak         No\n",
       "9   D12     Sunny         Hot   Normal  Strong        Yes\n",
       "10  D13      Rain         Hot   Normal  Strong         No\n",
       "11  D14     Sunny        Cool   Normal    Weak         No\n",
       "12  D15      Rain         Hot     High  Strong        Yes\n",
       "13  D17      Rain        Mild   Normal  Strong        Yes\n",
       "14  D18      Rain         Hot     High  Strong         No\n",
       "15  D19     Sunny        Mild     High  Strong         No\n",
       "16  D20     Sunny        Mild     High    Weak        Yes\n",
       "17  D21     Sunny        Cool     High    Weak         No\n",
       "18  D22  Overcast        Mild     High    Weak         No\n",
       "19  D23      Rain        Mild   Normal    Weak        Yes\n",
       "20  D24      Rain         Hot     High  Strong        Yes"
      ]
     },
     "execution_count": 3,
     "metadata": {},
     "output_type": "execute_result"
    }
   ],
   "source": [
    "df"
   ]
  },
  {
   "cell_type": "code",
   "execution_count": 4,
   "id": "d5b0c242",
   "metadata": {},
   "outputs": [],
   "source": [
    "def create_dictionary(list1, list2):\n",
    "    result = {}\n",
    "    for value1 in list1:\n",
    "        result[value1] = {}\n",
    "        for value2 in list2:\n",
    "            result[value1][value2] = 0\n",
    "    \n",
    "    return result"
   ]
  },
  {
   "cell_type": "code",
   "execution_count": 5,
   "id": "65e4843a",
   "metadata": {},
   "outputs": [],
   "source": [
    "def get_counts(list1, list2):\n",
    "    counts =create_dictionary(list1, list2)\n",
    "    for value1, value2 in zip(list1, list2):\n",
    "        counts[value1][value2] += 1\n",
    "    \n",
    "    return dict(counts)"
   ]
  },
  {
   "cell_type": "code",
   "execution_count": 6,
   "id": "e76c4063",
   "metadata": {},
   "outputs": [],
   "source": [
    "def Results_dictionary(rt):\n",
    "    result_dict = {}\n",
    "    for outer_key, inner_dict in rt.items():\n",
    "        result_dict[outer_key] = {}\n",
    "        for inner_key, most_inner_dict in inner_dict.items():\n",
    "            max_inner_key = max(most_inner_dict, key=most_inner_dict.get)\n",
    "            result_dict[outer_key][inner_key] = max_inner_key\n",
    "    return result_dict "
   ]
  },
  {
   "cell_type": "code",
   "execution_count": 7,
   "id": "59962320",
   "metadata": {},
   "outputs": [],
   "source": [
    "def combine_dictionaries(dict1, dict2):\n",
    "    combined_dict = {}\n",
    "\n",
    "    for key1, inner_dict1 in dict1.items():\n",
    "        combined_dict[key1] = {}\n",
    "        for key2, inner_dict2 in inner_dict1.items():\n",
    "            combined_dict[key1][key2] = sum(value for inner_key, value in inner_dict2.items() if inner_key != dict2[key1][key2])\n",
    "\n",
    "    return combined_dict\n"
   ]
  },
  {
   "cell_type": "code",
   "execution_count": 8,
   "id": "2570e78b",
   "metadata": {},
   "outputs": [],
   "source": [
    "def get_key_with_min_value(data):\n",
    "    min_value = float('inf')\n",
    "    min_key = None\n",
    "    \n",
    "    for key, value in data.items():\n",
    "        if value < min_value:\n",
    "            min_value = value\n",
    "            min_key = key\n",
    "    \n",
    "    return min_key\n"
   ]
  },
  {
   "cell_type": "code",
   "execution_count": 9,
   "id": "6610fcff",
   "metadata": {},
   "outputs": [],
   "source": [
    "def calculate_totals(data):\n",
    "    totals = {}\n",
    "    \n",
    "    for outer_key, inner_dict in data.items():\n",
    "        total = sum(inner_dict.values())\n",
    "        totals[outer_key] = total\n",
    "    \n",
    "    return totals"
   ]
  },
  {
   "cell_type": "code",
   "execution_count": 10,
   "id": "7df95816",
   "metadata": {},
   "outputs": [],
   "source": [
    "def get_evaluating_dict(data, variable):\n",
    "    if variable in data:\n",
    "        return data[variable]\n",
    "    else:\n",
    "        return {}\n"
   ]
  },
  {
   "cell_type": "code",
   "execution_count": 11,
   "id": "8e03aae9",
   "metadata": {},
   "outputs": [],
   "source": [
    "def lookup_value(dict1, dict2, key):\n",
    "    if key in dict1:\n",
    "        value1 = dict1[key]\n",
    "        if value1 in dict2:\n",
    "            return dict2[value1]\n",
    "    return None\n"
   ]
  },
  {
   "cell_type": "code",
   "execution_count": 12,
   "id": "54ef94e7",
   "metadata": {},
   "outputs": [
    {
     "name": "stdout",
     "output_type": "stream",
     "text": [
      "Index(['Day', 'Outlook', 'Temperature', 'Humidity', 'Wind', 'PlayTennis'], dtype='object')\n"
     ]
    }
   ],
   "source": [
    "print(df.columns)\n",
    "\n"
   ]
  },
  {
   "cell_type": "code",
   "execution_count": 13,
   "id": "79adfcc0",
   "metadata": {},
   "outputs": [],
   "source": [
    "result_value='PlayTennis'\n",
    "results=df[result_value].tolist()"
   ]
  },
  {
   "cell_type": "code",
   "execution_count": 14,
   "id": "41098fef",
   "metadata": {
    "collapsed": true
   },
   "outputs": [
    {
     "data": {
      "text/plain": [
       "{'Outlook': ['Sunny',\n",
       "  'Overcast',\n",
       "  'Rain',\n",
       "  'Rain',\n",
       "  'Rain',\n",
       "  'Overcast',\n",
       "  'Sunny',\n",
       "  'Sunny',\n",
       "  'Overcast',\n",
       "  'Sunny',\n",
       "  'Rain',\n",
       "  'Sunny',\n",
       "  'Rain',\n",
       "  'Rain',\n",
       "  'Rain',\n",
       "  'Sunny',\n",
       "  'Sunny',\n",
       "  'Sunny',\n",
       "  'Overcast',\n",
       "  'Rain',\n",
       "  'Rain'],\n",
       " 'Temperature': ['Hot',\n",
       "  'Cool',\n",
       "  'Hot',\n",
       "  'Cool',\n",
       "  'Hot',\n",
       "  'Mild',\n",
       "  'Hot',\n",
       "  'Hot',\n",
       "  'Mild',\n",
       "  'Hot',\n",
       "  'Hot',\n",
       "  'Cool',\n",
       "  'Hot',\n",
       "  'Mild',\n",
       "  'Hot',\n",
       "  'Mild',\n",
       "  'Mild',\n",
       "  'Cool',\n",
       "  'Mild',\n",
       "  'Mild',\n",
       "  'Hot'],\n",
       " 'Humidity': ['High',\n",
       "  'High',\n",
       "  'Normal',\n",
       "  'Normal',\n",
       "  'High',\n",
       "  'High',\n",
       "  'Normal',\n",
       "  'Normal',\n",
       "  'Normal',\n",
       "  'Normal',\n",
       "  'Normal',\n",
       "  'Normal',\n",
       "  'High',\n",
       "  'Normal',\n",
       "  'High',\n",
       "  'High',\n",
       "  'High',\n",
       "  'High',\n",
       "  'High',\n",
       "  'Normal',\n",
       "  'High'],\n",
       " 'Wind': ['Weak',\n",
       "  'Weak',\n",
       "  'Strong',\n",
       "  'Strong',\n",
       "  'Strong',\n",
       "  'Weak',\n",
       "  'Strong',\n",
       "  'Strong',\n",
       "  'Weak',\n",
       "  'Strong',\n",
       "  'Strong',\n",
       "  'Weak',\n",
       "  'Strong',\n",
       "  'Strong',\n",
       "  'Strong',\n",
       "  'Strong',\n",
       "  'Weak',\n",
       "  'Weak',\n",
       "  'Weak',\n",
       "  'Weak',\n",
       "  'Strong']}"
      ]
     },
     "execution_count": 14,
     "metadata": {},
     "output_type": "execute_result"
    }
   ],
   "source": [
    "dataset_Att = df.drop(result_value, axis=1)\n",
    "dataset_Att = dataset_Att.drop('Day', axis=1)\n",
    "dataset_= dataset_Att.to_dict(orient='list')\n",
    "dataset_"
   ]
  },
  {
   "cell_type": "code",
   "execution_count": 15,
   "id": "7935dca4",
   "metadata": {
    "collapsed": true
   },
   "outputs": [
    {
     "data": {
      "text/plain": [
       "{'Outlook': {'Sunny': {'No': 5, 'Yes': 3},\n",
       "  'Overcast': {'No': 2, 'Yes': 2},\n",
       "  'Rain': {'No': 4, 'Yes': 5}},\n",
       " 'Temperature': {'Hot': {'No': 6, 'Yes': 4},\n",
       "  'Cool': {'No': 2, 'Yes': 2},\n",
       "  'Mild': {'No': 3, 'Yes': 4}},\n",
       " 'Humidity': {'High': {'No': 6, 'Yes': 5}, 'Normal': {'No': 5, 'Yes': 5}},\n",
       " 'Wind': {'Weak': {'No': 5, 'Yes': 4}, 'Strong': {'No': 6, 'Yes': 6}}}"
      ]
     },
     "execution_count": 15,
     "metadata": {},
     "output_type": "execute_result"
    }
   ],
   "source": [
    "\n",
    "rt={}\n",
    "for key in dataset_:\n",
    "    rt[key]=get_counts(dataset_[key],results)\n",
    "\n",
    "rt"
   ]
  },
  {
   "cell_type": "code",
   "execution_count": 16,
   "id": "0713dfc7",
   "metadata": {},
   "outputs": [
    {
     "data": {
      "text/plain": [
       "{'Outlook': {'Sunny': 'No', 'Overcast': 'No', 'Rain': 'Yes'},\n",
       " 'Temperature': {'Hot': 'No', 'Cool': 'No', 'Mild': 'Yes'},\n",
       " 'Humidity': {'High': 'No', 'Normal': 'No'},\n",
       " 'Wind': {'Weak': 'No', 'Strong': 'No'}}"
      ]
     },
     "execution_count": 16,
     "metadata": {},
     "output_type": "execute_result"
    }
   ],
   "source": [
    "result_dict = Results_dictionary(rt)\n",
    "result_dict"
   ]
  },
  {
   "cell_type": "code",
   "execution_count": 17,
   "id": "3892b6e1",
   "metadata": {},
   "outputs": [
    {
     "data": {
      "text/plain": [
       "{'Outlook': {'Sunny': 3, 'Overcast': 2, 'Rain': 4},\n",
       " 'Temperature': {'Hot': 4, 'Cool': 2, 'Mild': 3},\n",
       " 'Humidity': {'High': 5, 'Normal': 5},\n",
       " 'Wind': {'Weak': 4, 'Strong': 6}}"
      ]
     },
     "execution_count": 17,
     "metadata": {},
     "output_type": "execute_result"
    }
   ],
   "source": [
    "errors=combine_dictionaries(rt,result_dict)\n",
    "\n",
    "errors"
   ]
  },
  {
   "cell_type": "code",
   "execution_count": 18,
   "id": "cdf9c44e",
   "metadata": {},
   "outputs": [
    {
     "data": {
      "text/plain": [
       "{'Outlook': 9, 'Temperature': 9, 'Humidity': 10, 'Wind': 10}"
      ]
     },
     "execution_count": 18,
     "metadata": {},
     "output_type": "execute_result"
    }
   ],
   "source": [
    "total_errors=calculate_totals(errors)\n",
    "total_errors"
   ]
  },
  {
   "cell_type": "code",
   "execution_count": 19,
   "id": "57d26889",
   "metadata": {},
   "outputs": [
    {
     "data": {
      "text/plain": [
       "'Outlook'"
      ]
     },
     "execution_count": 19,
     "metadata": {},
     "output_type": "execute_result"
    }
   ],
   "source": [
    "one_R_key=get_key_with_min_value(total_errors)\n",
    "one_R_key"
   ]
  },
  {
   "cell_type": "code",
   "execution_count": 20,
   "id": "d61de3f5",
   "metadata": {},
   "outputs": [
    {
     "data": {
      "text/plain": [
       "{'Sunny': 'No', 'Overcast': 'No', 'Rain': 'Yes'}"
      ]
     },
     "execution_count": 20,
     "metadata": {},
     "output_type": "execute_result"
    }
   ],
   "source": [
    "evaluating_dict=get_evaluating_dict(result_dict,one_R_key)\n",
    "evaluating_dict"
   ]
  },
  {
   "cell_type": "code",
   "execution_count": 21,
   "id": "5ffe9eba",
   "metadata": {},
   "outputs": [],
   "source": [
    "################################\n",
    "User_input={'Outlook':'Sunny','Temperature':'Hot','Humidity':'High','Wind':'Weak'}"
   ]
  },
  {
   "cell_type": "code",
   "execution_count": 22,
   "id": "5477c564",
   "metadata": {},
   "outputs": [
    {
     "data": {
      "text/plain": [
       "'No'"
      ]
     },
     "execution_count": 22,
     "metadata": {},
     "output_type": "execute_result"
    }
   ],
   "source": [
    "lookup_value(User_input, evaluating_dict, one_R_key)"
   ]
  },
  {
   "cell_type": "code",
   "execution_count": 23,
   "id": "71e57aa7",
   "metadata": {},
   "outputs": [],
   "source": [
    "test_ns=pd.read_csv(\"test.csv\" ,  encoding='latin-1')"
   ]
  },
  {
   "cell_type": "code",
   "execution_count": 24,
   "id": "f5b8c084",
   "metadata": {},
   "outputs": [
    {
     "data": {
      "text/plain": [
       "[{'Outlook': 'Sunny',\n",
       "  'Temperature': 'Mild',\n",
       "  'Humidity': 'High',\n",
       "  'Wind': 'Weak'},\n",
       " {'Outlook': 'Rain',\n",
       "  'Temperature': 'Mild',\n",
       "  'Humidity': 'High',\n",
       "  'Wind': 'Weak'},\n",
       " {'Outlook': 'Sunny',\n",
       "  'Temperature': 'Mild',\n",
       "  'Humidity': 'High',\n",
       "  'Wind': 'Weak'},\n",
       " {'Outlook': 'Rain',\n",
       "  'Temperature': 'Mild',\n",
       "  'Humidity': 'Normal',\n",
       "  'Wind': 'Strong'}]"
      ]
     },
     "execution_count": 24,
     "metadata": {},
     "output_type": "execute_result"
    }
   ],
   "source": [
    "test = test_ns.drop(result_value, axis=1)\n",
    "test = test.drop('Day', axis=1)\n",
    "test_= test.to_dict(orient='records')\n",
    "test_"
   ]
  },
  {
   "cell_type": "code",
   "execution_count": 25,
   "id": "51b804b6",
   "metadata": {},
   "outputs": [
    {
     "name": "stdout",
     "output_type": "stream",
     "text": [
      "{'Outlook': 'Sunny', 'Temperature': 'Mild', 'Humidity': 'High', 'Wind': 'Weak'}:No\n",
      "{'Outlook': 'Rain', 'Temperature': 'Mild', 'Humidity': 'High', 'Wind': 'Weak'}:Yes\n",
      "{'Outlook': 'Sunny', 'Temperature': 'Mild', 'Humidity': 'High', 'Wind': 'Weak'}:No\n",
      "{'Outlook': 'Rain', 'Temperature': 'Mild', 'Humidity': 'Normal', 'Wind': 'Strong'}:Yes\n"
     ]
    }
   ],
   "source": [
    "for dic in test_:\n",
    "    print(f\"{dic}:{lookup_value(dic, evaluating_dict, one_R_key)}\")\n",
    "    "
   ]
  },
  {
   "cell_type": "code",
   "execution_count": null,
   "id": "618481e6",
   "metadata": {},
   "outputs": [],
   "source": []
  },
  {
   "cell_type": "code",
   "execution_count": null,
   "id": "605ed2ff",
   "metadata": {},
   "outputs": [],
   "source": []
  },
  {
   "cell_type": "code",
   "execution_count": null,
   "id": "9dfe721f",
   "metadata": {},
   "outputs": [],
   "source": []
  }
 ],
 "metadata": {
  "kernelspec": {
   "display_name": "Python 3 (ipykernel)",
   "language": "python",
   "name": "python3"
  },
  "language_info": {
   "codemirror_mode": {
    "name": "ipython",
    "version": 3
   },
   "file_extension": ".py",
   "mimetype": "text/x-python",
   "name": "python",
   "nbconvert_exporter": "python",
   "pygments_lexer": "ipython3",
   "version": "3.10.9"
  }
 },
 "nbformat": 4,
 "nbformat_minor": 5
}
